{
 "cells": [
  {
   "cell_type": "code",
   "execution_count": 1,
   "id": "a77d0cc4-8f28-4f24-a822-8e11a9e24e07",
   "metadata": {},
   "outputs": [],
   "source": [
    "import pandas as pd\n",
    "import time, datetime, os\n",
    "import seaborn as sns\n",
    "import matplotlib.pyplot as plt\n",
    "from statistics import *\n",
    "from math import *\n",
    "import numpy as np\n",
    "import kneed as kn\n",
    "import plotly.express as px\n",
    "import networkx as nx\n",
    "import random as rn"
   ]
  },
  {
   "cell_type": "markdown",
   "id": "a640181c-f9cd-42b4-8d17-9f9143d97e75",
   "metadata": {},
   "source": [
    "### Import edge table for the target network"
   ]
  },
  {
   "cell_type": "code",
   "execution_count": null,
   "id": "def30912-d563-4b2f-93e0-2da28afef099",
   "metadata": {},
   "outputs": [],
   "source": [
    "os.getcwd() \n",
    "\n",
    "os.chdir('G:/My Drive/Rabome_Back_Up/UCD_2022/Data_retrieval_rabome/Network_Analysis')"
   ]
  },
  {
   "cell_type": "code",
   "execution_count": 3,
   "id": "999de5b8-9b41-4feb-a82f-3c8430036433",
   "metadata": {},
   "outputs": [
    {
     "data": {
      "text/plain": [
       "('G:/My Drive/Rabome_Back_Up/UCD_2022/Network_Analysis/Cytoscape_OP_YH_with_added_STRING_edges_edge_table.csv',\n",
       " ['display name',\n",
       "  'AverageShortestPathLength',\n",
       "  'BetweennessCentrality',\n",
       "  'ClosenessCentrality',\n",
       "  'ClusteringCoefficient',\n",
       "  'Degree',\n",
       "  'Eccentricity',\n",
       "  'isExcludedFromPaths',\n",
       "  'isInPath',\n",
       "  'IsSingleNode',\n",
       "  'name',\n",
       "  'NeighborhoodConnectivity',\n",
       "  'NumberOfDirectedEdges',\n",
       "  'NumberOfUndirectedEdges',\n",
       "  'PartnerOfMultiEdgedNodePairs',\n",
       "  'query term',\n",
       "  'Radiality',\n",
       "  'selected',\n",
       "  'SelfLoops',\n",
       "  'shared name',\n",
       "  'Stress'],\n",
       " 'blue')"
      ]
     },
     "execution_count": 3,
     "metadata": {},
     "output_type": "execute_result"
    }
   ],
   "source": [
    "# Choose from dictionary { YH : [path, columns_to_be_filtered if any, colour for the plots] }\n",
    "\n",
    "net_dict = {\"YH\" : ['G:/My Drive/Rabome_Back_Up/UCD_2022/Network_Analysis/Cytoscape_OP_YH_edge_table.csv', ['AverageShortestPathLength', 'BetweennessCentrality', 'ClosenessCentrality', 'ClusteringCoefficient', 'Degree','Eccentricity', 'isExcludedFromPaths', 'isInPath', 'IsSingleNode', 'name', 'NeighborhoodConnectivity', 'NumberOfDirectedEdges', 'NumberOfUndirectedEdges', 'PartnerOfMultiEdgedNodePairs', 'Radiality', 'selected', 'SelfLoops', 'shared name', 'Stress'], 'r'], \n",
    "            \"YH_STRING\" : ['G:/My Drive/Rabome_Back_Up/UCD_2022/Network_Analysis/Cytoscape_OP_YH_with_added_STRING_edges_edge_table.csv', ['display name','AverageShortestPathLength', 'BetweennessCentrality', 'ClosenessCentrality', 'ClusteringCoefficient', 'Degree','Eccentricity', 'isExcludedFromPaths', 'isInPath', 'IsSingleNode', 'name', 'NeighborhoodConnectivity', 'NumberOfDirectedEdges', 'NumberOfUndirectedEdges', 'PartnerOfMultiEdgedNodePairs', 'query term', 'Radiality', 'selected', 'SelfLoops', 'shared name', 'Stress'], 'blue'],\n",
    "            \"YH_25\" : ['G:/My Drive/Rabome_Back_Up/UCD_2022/Network_Analysis/YH_with_added_STRING_edges--25--add_edge_table.csv', ['display name','AverageShortestPathLength', 'BetweennessCentrality', 'ClosenessCentrality', 'ClusteringCoefficient', 'Degree','Eccentricity', 'isExcludedFromPaths', 'isInPath', 'IsSingleNode', 'name', 'NeighborhoodConnectivity', 'NumberOfDirectedEdges', 'NumberOfUndirectedEdges', 'PartnerOfMultiEdgedNodePairs', 'query term', 'Radiality', 'selected', 'SelfLoops', 'shared name', 'Stress'], 'g'],\n",
    "            \"YH_50\" : ['G:/My Drive/Rabome_Back_Up/UCD_2022/Network_Analysis/YH_with_added_STRING_edges--50--add_edge_table.csv', ['display name','AverageShortestPathLength', 'BetweennessCentrality', 'ClosenessCentrality', 'ClusteringCoefficient', 'Degree','Eccentricity', 'isExcludedFromPaths', 'isInPath', 'IsSingleNode', 'name', 'NeighborhoodConnectivity', 'NumberOfDirectedEdges', 'NumberOfUndirectedEdges', 'PartnerOfMultiEdgedNodePairs', 'query term', 'Radiality', 'selected', 'SelfLoops', 'shared name', 'Stress'], 'g'],\n",
    "            \"YH_75\" : ['G:/My Drive/Rabome_Back_Up/UCD_2022/Network_Analysis/YH_with_added_STRING_edges--75--add_edge_table.csv', ['display name','AverageShortestPathLength', 'BetweennessCentrality', 'ClosenessCentrality', 'ClusteringCoefficient', 'Degree','Eccentricity', 'isExcludedFromPaths', 'isInPath', 'IsSingleNode', 'name', 'NeighborhoodConnectivity', 'NumberOfDirectedEdges', 'NumberOfUndirectedEdges', 'PartnerOfMultiEdgedNodePairs', 'query term', 'Radiality', 'selected', 'SelfLoops', 'shared name', 'Stress'], 'pink'],\n",
    "            \"YH_100\" : ['G:/My Drive/Rabome_Back_Up/UCD_2022/Network_Analysis/YH_with_added_STRING_edges--100--add_edge_table.csv', ['display name','AverageShortestPathLength', 'BetweennessCentrality', 'ClosenessCentrality', 'ClusteringCoefficient', 'Degree','Eccentricity', 'isExcludedFromPaths', 'isInPath', 'IsSingleNode', 'name', 'NeighborhoodConnectivity', 'NumberOfDirectedEdges', 'NumberOfUndirectedEdges', 'PartnerOfMultiEdgedNodePairs', 'query term', 'Radiality', 'selected', 'SelfLoops', 'shared name', 'Stress'], 'cyan']           \n",
    "           }\n",
    "\n",
    "choice = \"YH_STRING\" # for Node table from YH interactions only\n",
    "# choice = \"YH_STRING\" # for Node table for YH + STRING interactions\n",
    "\n",
    "path = net_dict[choice][0]; cols = net_dict[choice][1]; col = net_dict[choice][2]\n",
    "path, cols, col   # Need to be changed a per edge table"
   ]
  },
  {
   "cell_type": "code",
   "execution_count": 5,
   "id": "9d7cb7e6-a17d-4946-a5f7-da151409e278",
   "metadata": {},
   "outputs": [
    {
     "name": "stdout",
     "output_type": "stream",
     "text": [
      "Last modified: Sun Sep 25 20:55:37 2022\n"
     ]
    },
    {
     "data": {
      "text/html": [
       "<div>\n",
       "<style scoped>\n",
       "    .dataframe tbody tr th:only-of-type {\n",
       "        vertical-align: middle;\n",
       "    }\n",
       "\n",
       "    .dataframe tbody tr th {\n",
       "        vertical-align: top;\n",
       "    }\n",
       "\n",
       "    .dataframe thead th {\n",
       "        text-align: right;\n",
       "    }\n",
       "</style>\n",
       "<table border=\"1\" class=\"dataframe\">\n",
       "  <thead>\n",
       "    <tr style=\"text-align: right;\">\n",
       "      <th></th>\n",
       "      <th>__glayCluster</th>\n",
       "      <th>EdgeBetweenness</th>\n",
       "      <th>interaction</th>\n",
       "      <th>isInPath</th>\n",
       "      <th>name</th>\n",
       "      <th>selected</th>\n",
       "      <th>shared interaction</th>\n",
       "      <th>shared name</th>\n",
       "      <th>stringdb::coexpression</th>\n",
       "      <th>stringdb::cooccurrence</th>\n",
       "      <th>stringdb::databases</th>\n",
       "      <th>stringdb::experiments</th>\n",
       "      <th>stringdb::fusion</th>\n",
       "      <th>stringdb::interspecies</th>\n",
       "      <th>stringdb::neighborhood</th>\n",
       "      <th>stringdb::score</th>\n",
       "      <th>stringdb::textmining</th>\n",
       "      <th>Type_of_interaction</th>\n",
       "    </tr>\n",
       "  </thead>\n",
       "  <tbody>\n",
       "    <tr>\n",
       "      <th>0</th>\n",
       "      <td>1</td>\n",
       "      <td>257.863840</td>\n",
       "      <td>interacts with</td>\n",
       "      <td>False</td>\n",
       "      <td>RAB29 (interacts with) C9ORF72</td>\n",
       "      <td>False</td>\n",
       "      <td>interacts with</td>\n",
       "      <td>RAB29 (interacts with) C9ORF72</td>\n",
       "      <td></td>\n",
       "      <td></td>\n",
       "      <td></td>\n",
       "      <td></td>\n",
       "      <td></td>\n",
       "      <td></td>\n",
       "      <td></td>\n",
       "      <td></td>\n",
       "      <td></td>\n",
       "      <td>Effector_Binding_Protein</td>\n",
       "    </tr>\n",
       "    <tr>\n",
       "      <th>1</th>\n",
       "      <td></td>\n",
       "      <td>305.834334</td>\n",
       "      <td>interacts with</td>\n",
       "      <td>False</td>\n",
       "      <td>RAB29 (interacts with) LRRK2</td>\n",
       "      <td>False</td>\n",
       "      <td>interacts with</td>\n",
       "      <td>RAB29 (interacts with) LRRK2</td>\n",
       "      <td>0.062</td>\n",
       "      <td></td>\n",
       "      <td></td>\n",
       "      <td>0.662</td>\n",
       "      <td></td>\n",
       "      <td></td>\n",
       "      <td></td>\n",
       "      <td>0.996</td>\n",
       "      <td>0.989</td>\n",
       "      <td>Effector_Binding_Protein</td>\n",
       "    </tr>\n",
       "    <tr>\n",
       "      <th>2</th>\n",
       "      <td>1</td>\n",
       "      <td>190.570554</td>\n",
       "      <td>pp</td>\n",
       "      <td>False</td>\n",
       "      <td>DYNC1LI1 (pp) HSP90AA1</td>\n",
       "      <td>False</td>\n",
       "      <td>pp</td>\n",
       "      <td>DYNC1LI1 (pp) HSP90AA1</td>\n",
       "      <td>0.062</td>\n",
       "      <td></td>\n",
       "      <td>0.9</td>\n",
       "      <td></td>\n",
       "      <td></td>\n",
       "      <td></td>\n",
       "      <td></td>\n",
       "      <td>0.91</td>\n",
       "      <td>0.126</td>\n",
       "      <td></td>\n",
       "    </tr>\n",
       "    <tr>\n",
       "      <th>3</th>\n",
       "      <td>1</td>\n",
       "      <td>132.943952</td>\n",
       "      <td>pp</td>\n",
       "      <td>False</td>\n",
       "      <td>DYNC1LI1 (pp) DYNLT1</td>\n",
       "      <td>False</td>\n",
       "      <td>pp</td>\n",
       "      <td>DYNC1LI1 (pp) DYNLT1</td>\n",
       "      <td>0.053</td>\n",
       "      <td></td>\n",
       "      <td>0.72</td>\n",
       "      <td>0.877</td>\n",
       "      <td></td>\n",
       "      <td></td>\n",
       "      <td></td>\n",
       "      <td>0.991</td>\n",
       "      <td>0.758</td>\n",
       "      <td></td>\n",
       "    </tr>\n",
       "    <tr>\n",
       "      <th>4</th>\n",
       "      <td>1</td>\n",
       "      <td>23.451123</td>\n",
       "      <td>pp</td>\n",
       "      <td>False</td>\n",
       "      <td>DYNC1LI1 (pp) DYNC1I2</td>\n",
       "      <td>False</td>\n",
       "      <td>pp</td>\n",
       "      <td>DYNC1LI1 (pp) DYNC1I2</td>\n",
       "      <td>0.108</td>\n",
       "      <td></td>\n",
       "      <td>0.8</td>\n",
       "      <td>0.9</td>\n",
       "      <td></td>\n",
       "      <td></td>\n",
       "      <td></td>\n",
       "      <td>0.994</td>\n",
       "      <td>0.749</td>\n",
       "      <td></td>\n",
       "    </tr>\n",
       "  </tbody>\n",
       "</table>\n",
       "</div>"
      ],
      "text/plain": [
       "  __glayCluster  EdgeBetweenness     interaction  isInPath  \\\n",
       "0             1       257.863840  interacts with     False   \n",
       "1                     305.834334  interacts with     False   \n",
       "2             1       190.570554              pp     False   \n",
       "3             1       132.943952              pp     False   \n",
       "4             1        23.451123              pp     False   \n",
       "\n",
       "                             name  selected shared interaction  \\\n",
       "0  RAB29 (interacts with) C9ORF72     False     interacts with   \n",
       "1    RAB29 (interacts with) LRRK2     False     interacts with   \n",
       "2          DYNC1LI1 (pp) HSP90AA1     False                 pp   \n",
       "3            DYNC1LI1 (pp) DYNLT1     False                 pp   \n",
       "4           DYNC1LI1 (pp) DYNC1I2     False                 pp   \n",
       "\n",
       "                      shared name stringdb::coexpression  \\\n",
       "0  RAB29 (interacts with) C9ORF72                          \n",
       "1    RAB29 (interacts with) LRRK2                  0.062   \n",
       "2          DYNC1LI1 (pp) HSP90AA1                  0.062   \n",
       "3            DYNC1LI1 (pp) DYNLT1                  0.053   \n",
       "4           DYNC1LI1 (pp) DYNC1I2                  0.108   \n",
       "\n",
       "  stringdb::cooccurrence stringdb::databases stringdb::experiments  \\\n",
       "0                                                                    \n",
       "1                                                            0.662   \n",
       "2                                        0.9                         \n",
       "3                                       0.72                 0.877   \n",
       "4                                        0.8                   0.9   \n",
       "\n",
       "  stringdb::fusion stringdb::interspecies stringdb::neighborhood  \\\n",
       "0                                                                  \n",
       "1                                                                  \n",
       "2                                                                  \n",
       "3                                                                  \n",
       "4                                                                  \n",
       "\n",
       "  stringdb::score stringdb::textmining       Type_of_interaction  \n",
       "0                                       Effector_Binding_Protein  \n",
       "1           0.996                0.989  Effector_Binding_Protein  \n",
       "2            0.91                0.126                            \n",
       "3           0.991                0.758                            \n",
       "4           0.994                0.749                            "
      ]
     },
     "execution_count": 5,
     "metadata": {},
     "output_type": "execute_result"
    }
   ],
   "source": [
    "# Import mega_4\n",
    "\n",
    "df = pd.read_csv(path, sep=',', na_filter= False)\n",
    "print(\"Last modified: %s\" % time.ctime(os.path.getmtime(path)))\n",
    "\n",
    "df.head()"
   ]
  },
  {
   "cell_type": "code",
   "execution_count": 8,
   "id": "6b6fe1b4-714a-49fa-9633-164595c9a0c9",
   "metadata": {},
   "outputs": [],
   "source": []
  },
  {
   "cell_type": "code",
   "execution_count": 9,
   "id": "c8ddf996-3295-4025-8cca-9efe21a3f9b5",
   "metadata": {},
   "outputs": [],
   "source": []
  },
  {
   "cell_type": "code",
   "execution_count": 10,
   "id": "78112699-28df-4a27-9255-fa08ef4c69da",
   "metadata": {},
   "outputs": [
    {
     "data": {
      "text/plain": [
       "1"
      ]
     },
     "execution_count": 10,
     "metadata": {},
     "output_type": "execute_result"
    }
   ],
   "source": [
    "# Functions' corollary\n",
    "\n",
    "nx.degree(G)  #.edges()\n",
    "nx.nodes(G)\n",
    "nx.connected_components(G)\n",
    "nx.number_connected_components(G)"
   ]
  },
  {
   "cell_type": "code",
   "execution_count": 14,
   "id": "dacc4966-2ab7-4afb-a928-3ee2f6d4e42c",
   "metadata": {},
   "outputs": [
    {
     "name": "stdout",
     "output_type": "stream",
     "text": [
      "1828 421 1\n",
      "1655 401 6 ['USP6NL', 'TBXA2R', 'RAB29', 'ANKRD27', 'KIF1C', 'EVI5L', 'MICAL1', 'RAB8A', 'OSBPL1A', 'DENND2A', 'SYTL2', 'TBC1D9B', 'VAMP7', 'RME8', 'RAB19', 'WDR44', 'TPD52', 'GOLGA2', 'EPG5', 'NDRG1']\n",
      "[396, 1, 1, 1, 1, 1]\n"
     ]
    }
   ],
   "source": [
    "# Functions' corollary\n",
    "\n",
    "G = nx.from_edgelist(edgelist)\n",
    "print(len(list(G.edges())), len(list(G.nodes())), nx.number_connected_components(G))\n",
    "rand_nodes_removal = rn.sample(list(nx.nodes(G)), k=20)\n",
    "G.remove_nodes_from(rand_nodes_removal)\n",
    "\n",
    "print(len(list(G.edges())), len(list(G.nodes())), nx.number_connected_components(G), rand_nodes_removal)\n",
    "comps = list(nx.connected_components(G))\n",
    "print([len(comps[x]) for x in range(0, len(comps))])"
   ]
  },
  {
   "cell_type": "code",
   "execution_count": null,
   "id": "009e3cd3-2d38-409f-a257-ba8874c672d8",
   "metadata": {},
   "outputs": [],
   "source": []
  },
  {
   "cell_type": "markdown",
   "id": "84060a63-323b-4d24-be4d-c12ea02ba25c",
   "metadata": {},
   "source": [
    "### Imported edge table to networkx object G"
   ]
  },
  {
   "cell_type": "code",
   "execution_count": null,
   "id": "bfd3f0f9-7b95-4d1b-bfda-3214a7ca8fc3",
   "metadata": {},
   "outputs": [],
   "source": [
    "# Pandas dataframe --> edgelist --> graph object G\n",
    "\n",
    "edgelist = list()\n",
    "for pair in df['shared name']:\n",
    "    edgelist.append((pair.split(' ')[::len(pair.split(' '))-1]))"
   ]
  },
  {
   "cell_type": "code",
   "execution_count": null,
   "id": "29caa286-bf9e-473a-829d-993c1567d6a5",
   "metadata": {},
   "outputs": [],
   "source": [
    "G = nx.from_edgelist(edgelist)"
   ]
  },
  {
   "cell_type": "code",
   "execution_count": null,
   "id": "eb0faf85-eda7-4e41-80e1-f7562255a6df",
   "metadata": {},
   "outputs": [],
   "source": []
  },
  {
   "cell_type": "code",
   "execution_count": 245,
   "id": "1dc55f23-0aaf-47d2-926e-263a60a5f6a2",
   "metadata": {},
   "outputs": [],
   "source": [
    "def modified_shannon_div(reps, edgelist, ):\n",
    "    \"\"\"\n",
    "    Input params: \n",
    "        edgelist: List of node pairs forming the network\n",
    "        reps: Iterations to perform serial node removal; default=1\n",
    "        \n",
    "    Output Params: \n",
    "        Dictionary with { #Nodes removed : [ Average Entropy from r interations, Average size of components formed for this #removed nodes ] }\n",
    "    \"\"\"\n",
    "    \n",
    "    \n",
    "    f_to_Hmsh = {}\n",
    "    isolated_comps = {}\n",
    "    G = nx.from_edgelist(edgelist); N = len(list(G.nodes()));\n",
    "    node_remv_rates = [ceil(x) for x in np.linspace(0, 421, num=30)]\n",
    "\n",
    "\n",
    "    for f in node_remv_rates:\n",
    "        Hmsh=[];  mean_no_comps_list=[]\n",
    "        for r in range(0, reps+1):\n",
    "            G = nx.from_edgelist(edgelist)\n",
    "            rand_nodes_removal = rn.sample(list(nx.nodes(G)), k=f)\n",
    "            G.remove_edges_from(list(G.edges(rand_nodes_removal)))\n",
    "\n",
    "            comps = list(nx.connected_components(G))\n",
    "            Ci = [len(comps[x]) for x in range(0, len(comps))]\n",
    "\n",
    "            # Get modified entropy H for this iteration    \n",
    "            Hmsh.append(abs(sum([c*log(c/N)/N for c in Ci]))/log(N))      # Sum of entropies of all fragments/ components (H) added in list\n",
    "            mean_no_comps_list.append(len(comps))                         # Component size added to the list\n",
    "\n",
    "        ''' '''\n",
    "        f_to_Hmsh.update({f:[mean(Hmsh), ceil(mean(mean_no_comps_list))]})   \n",
    "    return f_to_Hmsh    \n",
    "\n",
    "def plots_for_resilience(dict_from_Shann_Div):\n",
    "    \"\"\"\n",
    "    Input params: \n",
    "        Dictionary from \n",
    "    Output params:\n",
    "        Plot1: Entropy (H) vs failure rates f ranging [0,1] (Exported to curr_dir)\n",
    "        Plot2: ??\n",
    "        Stats_summary: (1 - Area under the curve) aka Resilience\n",
    "    \"\"\"\n",
    "    fig = px.line(x = f_to_Hmsh.keys(), y = [x[0] for x in f_to_Hmsh.values()], title = \"Entropy (Modified Shannon diversity) for failure rates [0,1]\")\n",
    "    fig.show()\n",
    "    fig.save(\"_\".join([choice, 'Resilience.png']))"
   ]
  },
  {
   "cell_type": "code",
   "execution_count": null,
   "id": "e9921a36-39e6-4fa8-8270-3fc9b328bf11",
   "metadata": {},
   "outputs": [],
   "source": []
  },
  {
   "cell_type": "code",
   "execution_count": null,
   "id": "63e55b5b-d8b7-40ef-87e4-8fae6f9db3a7",
   "metadata": {},
   "outputs": [],
   "source": []
  },
  {
   "cell_type": "code",
   "execution_count": null,
   "id": "c7d72713-6aa1-4456-b18f-0fdb935fc6f7",
   "metadata": {},
   "outputs": [],
   "source": []
  },
  {
   "cell_type": "code",
   "execution_count": 247,
   "id": "dd5e376d-3f5d-4f85-a9cc-862d1c793f84",
   "metadata": {},
   "outputs": [
    {
     "data": {
      "application/vnd.plotly.v1+json": {
       "config": {
        "plotlyServerURL": "https://plot.ly"
       },
       "data": [
        {
         "hovertemplate": "x=%{x}<br>y=%{y}<extra></extra>",
         "legendgroup": "",
         "line": {
          "color": "#636efa",
          "dash": "solid"
         },
         "marker": {
          "symbol": "circle"
         },
         "mode": "lines",
         "name": "",
         "orientation": "v",
         "showlegend": false,
         "type": "scatter",
         "x": [
          0,
          15,
          30,
          44,
          59,
          73,
          88,
          102,
          117,
          131,
          146,
          160,
          175,
          189,
          204,
          218,
          233,
          247,
          262,
          276,
          291,
          305,
          320,
          334,
          349,
          363,
          378,
          392,
          407,
          421
         ],
         "xaxis": "x",
         "y": [
          0,
          0.04583691094898748,
          0.09216733587420495,
          0.134292315456225,
          0.18102045174925818,
          0.22216358086375648,
          0.2672596883812187,
          0.30884645223441626,
          0.354106443642438,
          0.39717007871005755,
          0.43969168622259636,
          0.4799973882738168,
          0.5221028951209427,
          0.5599167121103766,
          0.6047354195419854,
          0.6395077250722268,
          0.6805624112104182,
          0.7175808512113443,
          0.7555156716527566,
          0.7899498782975954,
          0.8260685727409098,
          0.8576797579028393,
          0.8916033579399493,
          0.9209278646128458,
          0.9481534873267604,
          0.9677129121184367,
          0.984806548509019,
          0.9935786425758315,
          0.9987784652219163,
          1.0000000000000042
         ],
         "yaxis": "y"
        }
       ],
       "layout": {
        "autosize": true,
        "legend": {
         "tracegroupgap": 0
        },
        "template": {
         "data": {
          "bar": [
           {
            "error_x": {
             "color": "#2a3f5f"
            },
            "error_y": {
             "color": "#2a3f5f"
            },
            "marker": {
             "line": {
              "color": "#E5ECF6",
              "width": 0.5
             },
             "pattern": {
              "fillmode": "overlay",
              "size": 10,
              "solidity": 0.2
             }
            },
            "type": "bar"
           }
          ],
          "barpolar": [
           {
            "marker": {
             "line": {
              "color": "#E5ECF6",
              "width": 0.5
             },
             "pattern": {
              "fillmode": "overlay",
              "size": 10,
              "solidity": 0.2
             }
            },
            "type": "barpolar"
           }
          ],
          "carpet": [
           {
            "aaxis": {
             "endlinecolor": "#2a3f5f",
             "gridcolor": "white",
             "linecolor": "white",
             "minorgridcolor": "white",
             "startlinecolor": "#2a3f5f"
            },
            "baxis": {
             "endlinecolor": "#2a3f5f",
             "gridcolor": "white",
             "linecolor": "white",
             "minorgridcolor": "white",
             "startlinecolor": "#2a3f5f"
            },
            "type": "carpet"
           }
          ],
          "choropleth": [
           {
            "colorbar": {
             "outlinewidth": 0,
             "ticks": ""
            },
            "type": "choropleth"
           }
          ],
          "contour": [
           {
            "colorbar": {
             "outlinewidth": 0,
             "ticks": ""
            },
            "colorscale": [
             [
              0,
              "#0d0887"
             ],
             [
              0.1111111111111111,
              "#46039f"
             ],
             [
              0.2222222222222222,
              "#7201a8"
             ],
             [
              0.3333333333333333,
              "#9c179e"
             ],
             [
              0.4444444444444444,
              "#bd3786"
             ],
             [
              0.5555555555555556,
              "#d8576b"
             ],
             [
              0.6666666666666666,
              "#ed7953"
             ],
             [
              0.7777777777777778,
              "#fb9f3a"
             ],
             [
              0.8888888888888888,
              "#fdca26"
             ],
             [
              1,
              "#f0f921"
             ]
            ],
            "type": "contour"
           }
          ],
          "contourcarpet": [
           {
            "colorbar": {
             "outlinewidth": 0,
             "ticks": ""
            },
            "type": "contourcarpet"
           }
          ],
          "heatmap": [
           {
            "colorbar": {
             "outlinewidth": 0,
             "ticks": ""
            },
            "colorscale": [
             [
              0,
              "#0d0887"
             ],
             [
              0.1111111111111111,
              "#46039f"
             ],
             [
              0.2222222222222222,
              "#7201a8"
             ],
             [
              0.3333333333333333,
              "#9c179e"
             ],
             [
              0.4444444444444444,
              "#bd3786"
             ],
             [
              0.5555555555555556,
              "#d8576b"
             ],
             [
              0.6666666666666666,
              "#ed7953"
             ],
             [
              0.7777777777777778,
              "#fb9f3a"
             ],
             [
              0.8888888888888888,
              "#fdca26"
             ],
             [
              1,
              "#f0f921"
             ]
            ],
            "type": "heatmap"
           }
          ],
          "heatmapgl": [
           {
            "colorbar": {
             "outlinewidth": 0,
             "ticks": ""
            },
            "colorscale": [
             [
              0,
              "#0d0887"
             ],
             [
              0.1111111111111111,
              "#46039f"
             ],
             [
              0.2222222222222222,
              "#7201a8"
             ],
             [
              0.3333333333333333,
              "#9c179e"
             ],
             [
              0.4444444444444444,
              "#bd3786"
             ],
             [
              0.5555555555555556,
              "#d8576b"
             ],
             [
              0.6666666666666666,
              "#ed7953"
             ],
             [
              0.7777777777777778,
              "#fb9f3a"
             ],
             [
              0.8888888888888888,
              "#fdca26"
             ],
             [
              1,
              "#f0f921"
             ]
            ],
            "type": "heatmapgl"
           }
          ],
          "histogram": [
           {
            "marker": {
             "pattern": {
              "fillmode": "overlay",
              "size": 10,
              "solidity": 0.2
             }
            },
            "type": "histogram"
           }
          ],
          "histogram2d": [
           {
            "colorbar": {
             "outlinewidth": 0,
             "ticks": ""
            },
            "colorscale": [
             [
              0,
              "#0d0887"
             ],
             [
              0.1111111111111111,
              "#46039f"
             ],
             [
              0.2222222222222222,
              "#7201a8"
             ],
             [
              0.3333333333333333,
              "#9c179e"
             ],
             [
              0.4444444444444444,
              "#bd3786"
             ],
             [
              0.5555555555555556,
              "#d8576b"
             ],
             [
              0.6666666666666666,
              "#ed7953"
             ],
             [
              0.7777777777777778,
              "#fb9f3a"
             ],
             [
              0.8888888888888888,
              "#fdca26"
             ],
             [
              1,
              "#f0f921"
             ]
            ],
            "type": "histogram2d"
           }
          ],
          "histogram2dcontour": [
           {
            "colorbar": {
             "outlinewidth": 0,
             "ticks": ""
            },
            "colorscale": [
             [
              0,
              "#0d0887"
             ],
             [
              0.1111111111111111,
              "#46039f"
             ],
             [
              0.2222222222222222,
              "#7201a8"
             ],
             [
              0.3333333333333333,
              "#9c179e"
             ],
             [
              0.4444444444444444,
              "#bd3786"
             ],
             [
              0.5555555555555556,
              "#d8576b"
             ],
             [
              0.6666666666666666,
              "#ed7953"
             ],
             [
              0.7777777777777778,
              "#fb9f3a"
             ],
             [
              0.8888888888888888,
              "#fdca26"
             ],
             [
              1,
              "#f0f921"
             ]
            ],
            "type": "histogram2dcontour"
           }
          ],
          "mesh3d": [
           {
            "colorbar": {
             "outlinewidth": 0,
             "ticks": ""
            },
            "type": "mesh3d"
           }
          ],
          "parcoords": [
           {
            "line": {
             "colorbar": {
              "outlinewidth": 0,
              "ticks": ""
             }
            },
            "type": "parcoords"
           }
          ],
          "pie": [
           {
            "automargin": true,
            "type": "pie"
           }
          ],
          "scatter": [
           {
            "fillpattern": {
             "fillmode": "overlay",
             "size": 10,
             "solidity": 0.2
            },
            "type": "scatter"
           }
          ],
          "scatter3d": [
           {
            "line": {
             "colorbar": {
              "outlinewidth": 0,
              "ticks": ""
             }
            },
            "marker": {
             "colorbar": {
              "outlinewidth": 0,
              "ticks": ""
             }
            },
            "type": "scatter3d"
           }
          ],
          "scattercarpet": [
           {
            "marker": {
             "colorbar": {
              "outlinewidth": 0,
              "ticks": ""
             }
            },
            "type": "scattercarpet"
           }
          ],
          "scattergeo": [
           {
            "marker": {
             "colorbar": {
              "outlinewidth": 0,
              "ticks": ""
             }
            },
            "type": "scattergeo"
           }
          ],
          "scattergl": [
           {
            "marker": {
             "colorbar": {
              "outlinewidth": 0,
              "ticks": ""
             }
            },
            "type": "scattergl"
           }
          ],
          "scattermapbox": [
           {
            "marker": {
             "colorbar": {
              "outlinewidth": 0,
              "ticks": ""
             }
            },
            "type": "scattermapbox"
           }
          ],
          "scatterpolar": [
           {
            "marker": {
             "colorbar": {
              "outlinewidth": 0,
              "ticks": ""
             }
            },
            "type": "scatterpolar"
           }
          ],
          "scatterpolargl": [
           {
            "marker": {
             "colorbar": {
              "outlinewidth": 0,
              "ticks": ""
             }
            },
            "type": "scatterpolargl"
           }
          ],
          "scatterternary": [
           {
            "marker": {
             "colorbar": {
              "outlinewidth": 0,
              "ticks": ""
             }
            },
            "type": "scatterternary"
           }
          ],
          "surface": [
           {
            "colorbar": {
             "outlinewidth": 0,
             "ticks": ""
            },
            "colorscale": [
             [
              0,
              "#0d0887"
             ],
             [
              0.1111111111111111,
              "#46039f"
             ],
             [
              0.2222222222222222,
              "#7201a8"
             ],
             [
              0.3333333333333333,
              "#9c179e"
             ],
             [
              0.4444444444444444,
              "#bd3786"
             ],
             [
              0.5555555555555556,
              "#d8576b"
             ],
             [
              0.6666666666666666,
              "#ed7953"
             ],
             [
              0.7777777777777778,
              "#fb9f3a"
             ],
             [
              0.8888888888888888,
              "#fdca26"
             ],
             [
              1,
              "#f0f921"
             ]
            ],
            "type": "surface"
           }
          ],
          "table": [
           {
            "cells": {
             "fill": {
              "color": "#EBF0F8"
             },
             "line": {
              "color": "white"
             }
            },
            "header": {
             "fill": {
              "color": "#C8D4E3"
             },
             "line": {
              "color": "white"
             }
            },
            "type": "table"
           }
          ]
         },
         "layout": {
          "annotationdefaults": {
           "arrowcolor": "#2a3f5f",
           "arrowhead": 0,
           "arrowwidth": 1
          },
          "autotypenumbers": "strict",
          "coloraxis": {
           "colorbar": {
            "outlinewidth": 0,
            "ticks": ""
           }
          },
          "colorscale": {
           "diverging": [
            [
             0,
             "#8e0152"
            ],
            [
             0.1,
             "#c51b7d"
            ],
            [
             0.2,
             "#de77ae"
            ],
            [
             0.3,
             "#f1b6da"
            ],
            [
             0.4,
             "#fde0ef"
            ],
            [
             0.5,
             "#f7f7f7"
            ],
            [
             0.6,
             "#e6f5d0"
            ],
            [
             0.7,
             "#b8e186"
            ],
            [
             0.8,
             "#7fbc41"
            ],
            [
             0.9,
             "#4d9221"
            ],
            [
             1,
             "#276419"
            ]
           ],
           "sequential": [
            [
             0,
             "#0d0887"
            ],
            [
             0.1111111111111111,
             "#46039f"
            ],
            [
             0.2222222222222222,
             "#7201a8"
            ],
            [
             0.3333333333333333,
             "#9c179e"
            ],
            [
             0.4444444444444444,
             "#bd3786"
            ],
            [
             0.5555555555555556,
             "#d8576b"
            ],
            [
             0.6666666666666666,
             "#ed7953"
            ],
            [
             0.7777777777777778,
             "#fb9f3a"
            ],
            [
             0.8888888888888888,
             "#fdca26"
            ],
            [
             1,
             "#f0f921"
            ]
           ],
           "sequentialminus": [
            [
             0,
             "#0d0887"
            ],
            [
             0.1111111111111111,
             "#46039f"
            ],
            [
             0.2222222222222222,
             "#7201a8"
            ],
            [
             0.3333333333333333,
             "#9c179e"
            ],
            [
             0.4444444444444444,
             "#bd3786"
            ],
            [
             0.5555555555555556,
             "#d8576b"
            ],
            [
             0.6666666666666666,
             "#ed7953"
            ],
            [
             0.7777777777777778,
             "#fb9f3a"
            ],
            [
             0.8888888888888888,
             "#fdca26"
            ],
            [
             1,
             "#f0f921"
            ]
           ]
          },
          "colorway": [
           "#636efa",
           "#EF553B",
           "#00cc96",
           "#ab63fa",
           "#FFA15A",
           "#19d3f3",
           "#FF6692",
           "#B6E880",
           "#FF97FF",
           "#FECB52"
          ],
          "font": {
           "color": "#2a3f5f"
          },
          "geo": {
           "bgcolor": "white",
           "lakecolor": "white",
           "landcolor": "#E5ECF6",
           "showlakes": true,
           "showland": true,
           "subunitcolor": "white"
          },
          "hoverlabel": {
           "align": "left"
          },
          "hovermode": "closest",
          "mapbox": {
           "style": "light"
          },
          "paper_bgcolor": "white",
          "plot_bgcolor": "#E5ECF6",
          "polar": {
           "angularaxis": {
            "gridcolor": "white",
            "linecolor": "white",
            "ticks": ""
           },
           "bgcolor": "#E5ECF6",
           "radialaxis": {
            "gridcolor": "white",
            "linecolor": "white",
            "ticks": ""
           }
          },
          "scene": {
           "xaxis": {
            "backgroundcolor": "#E5ECF6",
            "gridcolor": "white",
            "gridwidth": 2,
            "linecolor": "white",
            "showbackground": true,
            "ticks": "",
            "zerolinecolor": "white"
           },
           "yaxis": {
            "backgroundcolor": "#E5ECF6",
            "gridcolor": "white",
            "gridwidth": 2,
            "linecolor": "white",
            "showbackground": true,
            "ticks": "",
            "zerolinecolor": "white"
           },
           "zaxis": {
            "backgroundcolor": "#E5ECF6",
            "gridcolor": "white",
            "gridwidth": 2,
            "linecolor": "white",
            "showbackground": true,
            "ticks": "",
            "zerolinecolor": "white"
           }
          },
          "shapedefaults": {
           "line": {
            "color": "#2a3f5f"
           }
          },
          "ternary": {
           "aaxis": {
            "gridcolor": "white",
            "linecolor": "white",
            "ticks": ""
           },
           "baxis": {
            "gridcolor": "white",
            "linecolor": "white",
            "ticks": ""
           },
           "bgcolor": "#E5ECF6",
           "caxis": {
            "gridcolor": "white",
            "linecolor": "white",
            "ticks": ""
           }
          },
          "title": {
           "x": 0.05
          },
          "xaxis": {
           "automargin": true,
           "gridcolor": "white",
           "linecolor": "white",
           "ticks": "",
           "title": {
            "standoff": 15
           },
           "zerolinecolor": "white",
           "zerolinewidth": 2
          },
          "yaxis": {
           "automargin": true,
           "gridcolor": "white",
           "linecolor": "white",
           "ticks": "",
           "title": {
            "standoff": 15
           },
           "zerolinecolor": "white",
           "zerolinewidth": 2
          }
         }
        },
        "title": {
         "text": "Entropy (Modified Shannon diversity) for failure rates [0,1]"
        },
        "xaxis": {
         "anchor": "y",
         "autorange": true,
         "domain": [
          0,
          1
         ],
         "range": [
          0,
          421
         ],
         "title": {
          "text": "x"
         },
         "type": "linear"
        },
        "yaxis": {
         "anchor": "x",
         "autorange": true,
         "domain": [
          0,
          1
         ],
         "range": [
          -0.05555555555555579,
          1.05555555555556
         ],
         "title": {
          "text": "y"
         },
         "type": "linear"
        }
       }
      },
      "image/png": "[encoded data removed]",
      "text/html": [
       "<div>                            <div id=\"4acf99f0-602c-4c5d-ace7-653b7c5f8f5e\" class=\"plotly-graph-div\" style=\"height:525px; width:100%;\"></div>            <script type=\"text/javascript\">                require([\"plotly\"], function(Plotly) {                    window.PLOTLYENV=window.PLOTLYENV || {};                                    if (document.getElementById(\"4acf99f0-602c-4c5d-ace7-653b7c5f8f5e\")) {                    Plotly.newPlot(                        \"4acf99f0-602c-4c5d-ace7-653b7c5f8f5e\",                        [{\"hovertemplate\":\"x=%{x}<br>y=%{y}<extra></extra>\",\"legendgroup\":\"\",\"line\":{\"color\":\"#636efa\",\"dash\":\"solid\"},\"marker\":{\"symbol\":\"circle\"},\"mode\":\"lines\",\"name\":\"\",\"orientation\":\"v\",\"showlegend\":false,\"x\":[0,15,30,44,59,73,88,102,117,131,146,160,175,189,204,218,233,247,262,276,291,305,320,334,349,363,378,392,407,421],\"xaxis\":\"x\",\"y\":[0.0,0.04583691094898748,0.09216733587420495,0.134292315456225,0.18102045174925818,0.22216358086375648,0.2672596883812187,0.30884645223441626,0.354106443642438,0.39717007871005755,0.43969168622259636,0.4799973882738168,0.5221028951209427,0.5599167121103766,0.6047354195419854,0.6395077250722268,0.6805624112104182,0.7175808512113443,0.7555156716527566,0.7899498782975954,0.8260685727409098,0.8576797579028393,0.8916033579399493,0.9209278646128458,0.9481534873267604,0.9677129121184367,0.984806548509019,0.9935786425758315,0.9987784652219163,1.0000000000000042],\"yaxis\":\"y\",\"type\":\"scatter\"}],                        {\"template\":{\"data\":{\"histogram2dcontour\":[{\"type\":\"histogram2dcontour\",\"colorbar\":{\"outlinewidth\":0,\"ticks\":\"\"},\"colorscale\":[[0.0,\"#0d0887\"],[0.1111111111111111,\"#46039f\"],[0.2222222222222222,\"#7201a8\"],[0.3333333333333333,\"#9c179e\"],[0.4444444444444444,\"#bd3786\"],[0.5555555555555556,\"#d8576b\"],[0.6666666666666666,\"#ed7953\"],[0.7777777777777778,\"#fb9f3a\"],[0.8888888888888888,\"#fdca26\"],[1.0,\"#f0f921\"]]}],\"choropleth\":[{\"type\":\"choropleth\",\"colorbar\":{\"outlinewidth\":0,\"ticks\":\"\"}}],\"histogram2d\":[{\"type\":\"histogram2d\",\"colorbar\":{\"outlinewidth\":0,\"ticks\":\"\"},\"colorscale\":[[0.0,\"#0d0887\"],[0.1111111111111111,\"#46039f\"],[0.2222222222222222,\"#7201a8\"],[0.3333333333333333,\"#9c179e\"],[0.4444444444444444,\"#bd3786\"],[0.5555555555555556,\"#d8576b\"],[0.6666666666666666,\"#ed7953\"],[0.7777777777777778,\"#fb9f3a\"],[0.8888888888888888,\"#fdca26\"],[1.0,\"#f0f921\"]]}],\"heatmap\":[{\"type\":\"heatmap\",\"colorbar\":{\"outlinewidth\":0,\"ticks\":\"\"},\"colorscale\":[[0.0,\"#0d0887\"],[0.1111111111111111,\"#46039f\"],[0.2222222222222222,\"#7201a8\"],[0.3333333333333333,\"#9c179e\"],[0.4444444444444444,\"#bd3786\"],[0.5555555555555556,\"#d8576b\"],[0.6666666666666666,\"#ed7953\"],[0.7777777777777778,\"#fb9f3a\"],[0.8888888888888888,\"#fdca26\"],[1.0,\"#f0f921\"]]}],\"heatmapgl\":[{\"type\":\"heatmapgl\",\"colorbar\":{\"outlinewidth\":0,\"ticks\":\"\"},\"colorscale\":[[0.0,\"#0d0887\"],[0.1111111111111111,\"#46039f\"],[0.2222222222222222,\"#7201a8\"],[0.3333333333333333,\"#9c179e\"],[0.4444444444444444,\"#bd3786\"],[0.5555555555555556,\"#d8576b\"],[0.6666666666666666,\"#ed7953\"],[0.7777777777777778,\"#fb9f3a\"],[0.8888888888888888,\"#fdca26\"],[1.0,\"#f0f921\"]]}],\"contourcarpet\":[{\"type\":\"contourcarpet\",\"colorbar\":{\"outlinewidth\":0,\"ticks\":\"\"}}],\"contour\":[{\"type\":\"contour\",\"colorbar\":{\"outlinewidth\":0,\"ticks\":\"\"},\"colorscale\":[[0.0,\"#0d0887\"],[0.1111111111111111,\"#46039f\"],[0.2222222222222222,\"#7201a8\"],[0.3333333333333333,\"#9c179e\"],[0.4444444444444444,\"#bd3786\"],[0.5555555555555556,\"#d8576b\"],[0.6666666666666666,\"#ed7953\"],[0.7777777777777778,\"#fb9f3a\"],[0.8888888888888888,\"#fdca26\"],[1.0,\"#f0f921\"]]}],\"surface\":[{\"type\":\"surface\",\"colorbar\":{\"outlinewidth\":0,\"ticks\":\"\"},\"colorscale\":[[0.0,\"#0d0887\"],[0.1111111111111111,\"#46039f\"],[0.2222222222222222,\"#7201a8\"],[0.3333333333333333,\"#9c179e\"],[0.4444444444444444,\"#bd3786\"],[0.5555555555555556,\"#d8576b\"],[0.6666666666666666,\"#ed7953\"],[0.7777777777777778,\"#fb9f3a\"],[0.8888888888888888,\"#fdca26\"],[1.0,\"#f0f921\"]]}],\"mesh3d\":[{\"type\":\"mesh3d\",\"colorbar\":{\"outlinewidth\":0,\"ticks\":\"\"}}],\"scatter\":[{\"fillpattern\":{\"fillmode\":\"overlay\",\"size\":10,\"solidity\":0.2},\"type\":\"scatter\"}],\"parcoords\":[{\"type\":\"parcoords\",\"line\":{\"colorbar\":{\"outlinewidth\":0,\"ticks\":\"\"}}}],\"scatterpolargl\":[{\"type\":\"scatterpolargl\",\"marker\":{\"colorbar\":{\"outlinewidth\":0,\"ticks\":\"\"}}}],\"bar\":[{\"error_x\":{\"color\":\"#2a3f5f\"},\"error_y\":{\"color\":\"#2a3f5f\"},\"marker\":{\"line\":{\"color\":\"#E5ECF6\",\"width\":0.5},\"pattern\":{\"fillmode\":\"overlay\",\"size\":10,\"solidity\":0.2}},\"type\":\"bar\"}],\"scattergeo\":[{\"type\":\"scattergeo\",\"marker\":{\"colorbar\":{\"outlinewidth\":0,\"ticks\":\"\"}}}],\"scatterpolar\":[{\"type\":\"scatterpolar\",\"marker\":{\"colorbar\":{\"outlinewidth\":0,\"ticks\":\"\"}}}],\"histogram\":[{\"marker\":{\"pattern\":{\"fillmode\":\"overlay\",\"size\":10,\"solidity\":0.2}},\"type\":\"histogram\"}],\"scattergl\":[{\"type\":\"scattergl\",\"marker\":{\"colorbar\":{\"outlinewidth\":0,\"ticks\":\"\"}}}],\"scatter3d\":[{\"type\":\"scatter3d\",\"line\":{\"colorbar\":{\"outlinewidth\":0,\"ticks\":\"\"}},\"marker\":{\"colorbar\":{\"outlinewidth\":0,\"ticks\":\"\"}}}],\"scattermapbox\":[{\"type\":\"scattermapbox\",\"marker\":{\"colorbar\":{\"outlinewidth\":0,\"ticks\":\"\"}}}],\"scatterternary\":[{\"type\":\"scatterternary\",\"marker\":{\"colorbar\":{\"outlinewidth\":0,\"ticks\":\"\"}}}],\"scattercarpet\":[{\"type\":\"scattercarpet\",\"marker\":{\"colorbar\":{\"outlinewidth\":0,\"ticks\":\"\"}}}],\"carpet\":[{\"aaxis\":{\"endlinecolor\":\"#2a3f5f\",\"gridcolor\":\"white\",\"linecolor\":\"white\",\"minorgridcolor\":\"white\",\"startlinecolor\":\"#2a3f5f\"},\"baxis\":{\"endlinecolor\":\"#2a3f5f\",\"gridcolor\":\"white\",\"linecolor\":\"white\",\"minorgridcolor\":\"white\",\"startlinecolor\":\"#2a3f5f\"},\"type\":\"carpet\"}],\"table\":[{\"cells\":{\"fill\":{\"color\":\"#EBF0F8\"},\"line\":{\"color\":\"white\"}},\"header\":{\"fill\":{\"color\":\"#C8D4E3\"},\"line\":{\"color\":\"white\"}},\"type\":\"table\"}],\"barpolar\":[{\"marker\":{\"line\":{\"color\":\"#E5ECF6\",\"width\":0.5},\"pattern\":{\"fillmode\":\"overlay\",\"size\":10,\"solidity\":0.2}},\"type\":\"barpolar\"}],\"pie\":[{\"automargin\":true,\"type\":\"pie\"}]},\"layout\":{\"autotypenumbers\":\"strict\",\"colorway\":[\"#636efa\",\"#EF553B\",\"#00cc96\",\"#ab63fa\",\"#FFA15A\",\"#19d3f3\",\"#FF6692\",\"#B6E880\",\"#FF97FF\",\"#FECB52\"],\"font\":{\"color\":\"#2a3f5f\"},\"hovermode\":\"closest\",\"hoverlabel\":{\"align\":\"left\"},\"paper_bgcolor\":\"white\",\"plot_bgcolor\":\"#E5ECF6\",\"polar\":{\"bgcolor\":\"#E5ECF6\",\"angularaxis\":{\"gridcolor\":\"white\",\"linecolor\":\"white\",\"ticks\":\"\"},\"radialaxis\":{\"gridcolor\":\"white\",\"linecolor\":\"white\",\"ticks\":\"\"}},\"ternary\":{\"bgcolor\":\"#E5ECF6\",\"aaxis\":{\"gridcolor\":\"white\",\"linecolor\":\"white\",\"ticks\":\"\"},\"baxis\":{\"gridcolor\":\"white\",\"linecolor\":\"white\",\"ticks\":\"\"},\"caxis\":{\"gridcolor\":\"white\",\"linecolor\":\"white\",\"ticks\":\"\"}},\"coloraxis\":{\"colorbar\":{\"outlinewidth\":0,\"ticks\":\"\"}},\"colorscale\":{\"sequential\":[[0.0,\"#0d0887\"],[0.1111111111111111,\"#46039f\"],[0.2222222222222222,\"#7201a8\"],[0.3333333333333333,\"#9c179e\"],[0.4444444444444444,\"#bd3786\"],[0.5555555555555556,\"#d8576b\"],[0.6666666666666666,\"#ed7953\"],[0.7777777777777778,\"#fb9f3a\"],[0.8888888888888888,\"#fdca26\"],[1.0,\"#f0f921\"]],\"sequentialminus\":[[0.0,\"#0d0887\"],[0.1111111111111111,\"#46039f\"],[0.2222222222222222,\"#7201a8\"],[0.3333333333333333,\"#9c179e\"],[0.4444444444444444,\"#bd3786\"],[0.5555555555555556,\"#d8576b\"],[0.6666666666666666,\"#ed7953\"],[0.7777777777777778,\"#fb9f3a\"],[0.8888888888888888,\"#fdca26\"],[1.0,\"#f0f921\"]],\"diverging\":[[0,\"#8e0152\"],[0.1,\"#c51b7d\"],[0.2,\"#de77ae\"],[0.3,\"#f1b6da\"],[0.4,\"#fde0ef\"],[0.5,\"#f7f7f7\"],[0.6,\"#e6f5d0\"],[0.7,\"#b8e186\"],[0.8,\"#7fbc41\"],[0.9,\"#4d9221\"],[1,\"#276419\"]]},\"xaxis\":{\"gridcolor\":\"white\",\"linecolor\":\"white\",\"ticks\":\"\",\"title\":{\"standoff\":15},\"zerolinecolor\":\"white\",\"automargin\":true,\"zerolinewidth\":2},\"yaxis\":{\"gridcolor\":\"white\",\"linecolor\":\"white\",\"ticks\":\"\",\"title\":{\"standoff\":15},\"zerolinecolor\":\"white\",\"automargin\":true,\"zerolinewidth\":2},\"scene\":{\"xaxis\":{\"backgroundcolor\":\"#E5ECF6\",\"gridcolor\":\"white\",\"linecolor\":\"white\",\"showbackground\":true,\"ticks\":\"\",\"zerolinecolor\":\"white\",\"gridwidth\":2},\"yaxis\":{\"backgroundcolor\":\"#E5ECF6\",\"gridcolor\":\"white\",\"linecolor\":\"white\",\"showbackground\":true,\"ticks\":\"\",\"zerolinecolor\":\"white\",\"gridwidth\":2},\"zaxis\":{\"backgroundcolor\":\"#E5ECF6\",\"gridcolor\":\"white\",\"linecolor\":\"white\",\"showbackground\":true,\"ticks\":\"\",\"zerolinecolor\":\"white\",\"gridwidth\":2}},\"shapedefaults\":{\"line\":{\"color\":\"#2a3f5f\"}},\"annotationdefaults\":{\"arrowcolor\":\"#2a3f5f\",\"arrowhead\":0,\"arrowwidth\":1},\"geo\":{\"bgcolor\":\"white\",\"landcolor\":\"#E5ECF6\",\"subunitcolor\":\"white\",\"showland\":true,\"showlakes\":true,\"lakecolor\":\"white\"},\"title\":{\"x\":0.05},\"mapbox\":{\"style\":\"light\"}}},\"xaxis\":{\"anchor\":\"y\",\"domain\":[0.0,1.0],\"title\":{\"text\":\"x\"}},\"yaxis\":{\"anchor\":\"x\",\"domain\":[0.0,1.0],\"title\":{\"text\":\"y\"}},\"legend\":{\"tracegroupgap\":0},\"title\":{\"text\":\"Entropy (Modified Shannon diversity) for failure rates [0,1]\"}},                        {\"responsive\": true}                    ).then(function(){\n",
       "                            \n",
       "var gd = document.getElementById('4acf99f0-602c-4c5d-ace7-653b7c5f8f5e');\n",
       "var x = new MutationObserver(function (mutations, observer) {{\n",
       "        var display = window.getComputedStyle(gd).display;\n",
       "        if (!display || display === 'none') {{\n",
       "            console.log([gd, 'removed!']);\n",
       "            Plotly.purge(gd);\n",
       "            observer.disconnect();\n",
       "        }}\n",
       "}});\n",
       "\n",
       "// Listen for the removal of the full notebook cells\n",
       "var notebookContainer = gd.closest('#notebook-container');\n",
       "if (notebookContainer) {{\n",
       "    x.observe(notebookContainer, {childList: true});\n",
       "}}\n",
       "\n",
       "// Listen for the clearing of the current output cell\n",
       "var outputEl = gd.closest('.output');\n",
       "if (outputEl) {{\n",
       "    x.observe(outputEl, {childList: true});\n",
       "}}\n",
       "\n",
       "                        })                };                });            </script>        </div>"
      ]
     },
     "metadata": {},
     "output_type": "display_data"
    }
   ],
   "source": [
    "# Plot the Entropy to find area above the curve aka Resilience\n",
    "\n",
    "fig = px.line(x = f_to_Hmsh.keys(), y = [x[0] for x in f_to_Hmsh.values()], title = \"Entropy (Modified Shannon diversity) for failure rates [0,1]\")\n",
    "fig.show()\n",
    "fig.write_html(\"_\".join([choice, 'Resilience.html']))"
   ]
  },
  {
   "cell_type": "code",
   "execution_count": null,
   "id": "d14719e5-f18b-4192-bd66-a310944b37df",
   "metadata": {},
   "outputs": [],
   "source": []
  },
  {
   "cell_type": "code",
   "execution_count": null,
   "id": "934bfb08-9b73-4893-ab8b-feaa2bd4de10",
   "metadata": {},
   "outputs": [],
   "source": []
  }
 ],
 "metadata": {
  "kernelspec": {
   "display_name": "Python 3 (ipykernel)",
   "language": "python",
   "name": "python3"
  },
  "language_info": {
   "codemirror_mode": {
    "name": "ipython",
    "version": 3
   },
   "file_extension": ".py",
   "mimetype": "text/x-python",
   "name": "python",
   "nbconvert_exporter": "python",
   "pygments_lexer": "ipython3",
   "version": "3.8.8"
  }
 },
 "nbformat": 4,
 "nbformat_minor": 5
}
